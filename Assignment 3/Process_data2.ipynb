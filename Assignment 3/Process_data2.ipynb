{
 "cells": [
  {
   "cell_type": "code",
   "execution_count": 1,
   "id": "c013180c",
   "metadata": {},
   "outputs": [],
   "source": [
    "import os\n",
    "import json\n",
    "import pandas as pd\n",
    "import pyspark"
   ]
  },
  {
   "cell_type": "code",
   "execution_count": 3,
   "id": "6a379b63-72d7-4dfe-9665-df687e463d63",
   "metadata": {
    "tags": []
   },
   "outputs": [],
   "source": [
    "#For some reason I could not access dataframe without pip installing findspark and then running this. Don't completely understand\n",
    "import findspark\n",
    "findspark.init()"
   ]
  },
  {
   "cell_type": "code",
   "execution_count": 5,
   "id": "9e57587f",
   "metadata": {},
   "outputs": [],
   "source": [
    "# Create a list of file paths for text files\n",
    "path = \"C:/Users/rdequ/Documents/spark/notebooks/data\"\n",
    "text_file_paths = [\n",
    "    os.path.join(root, name)\n",
    "    for root, dirs, files in os.walk(path)\n",
    "    for name in files\n",
    "    if name.endswith('.json')\n",
    "    and not name.endswith('_SUCCESS.json')\n",
    "]"
   ]
  },
  {
   "cell_type": "code",
   "execution_count": 7,
   "id": "9d5695ca",
   "metadata": {},
   "outputs": [
    {
     "name": "stdout",
     "output_type": "stream",
     "text": [
      "           aid                                              title  \\\n",
      "0     40152353                            The Importance of Maybe   \n",
      "1     40174439         Noam Chomsky on Where AI Went Wrong (2012)   \n",
      "2     40165089  Overclocking My Brain: Adapting to Faster Audi...   \n",
      "3     40173780  We Dropped This Phone from 300 Feet. Here's Wh...   \n",
      "4     40151430     WordPress Debugging Simplified with Wpdebug.sh   \n",
      "...        ...                                                ...   \n",
      "1690  40154202                Building a Micro HTMX SSR Framework   \n",
      "1691  40173659            WTH Happened to GPT-4's coding ability?   \n",
      "1692  40151826       Xaira raises 1B for generative AI in biology   \n",
      "1693  40186740                   Mitigations – Is OpenBSD Secure?   \n",
      "1694  40164429  Local code completion in VS Code with Cody and...   \n",
      "\n",
      "                                                    url  \\\n",
      "0     https://zephyrtronium.github.io/articles/lang-...   \n",
      "1     https://www.youtube.com/playlist?list=PL5lamnB...   \n",
      "2     https://buttondown.email/bimodalblitz/archive/...   \n",
      "3     https://www.wsj.com/video/series/joanna-stern-...   \n",
      "4     https://fervid.digital/articles/wordpress-debu...   \n",
      "...                                                 ...   \n",
      "1690  https://blog.platformatic.dev/building-a-micro...   \n",
      "1691  https://old.reddit.com/r/ChatGPT/comments/1cdc...   \n",
      "1692  https://techcrunch.com/2024/04/24/xaira-an-ai-...   \n",
      "1693              https://isopenbsdsecu.re/mitigations/   \n",
      "1694  https://sourcegraph.com/blog/local-code-comple...   \n",
      "\n",
      "                             domain  votes            user  \\\n",
      "0           zephyrtronium.github.io      1        Madxmike   \n",
      "1                       youtube.com      2            max_   \n",
      "2     buttondown.email/bimodalblitz      1      readtolive   \n",
      "3                           wsj.com      3       gnicholas   \n",
      "4                    fervid.digital      1     roymckenzie   \n",
      "...                             ...    ...             ...   \n",
      "1690               platformatic.dev      1     thunderbong   \n",
      "1691                     reddit.com      1          spxneo   \n",
      "1692                 techcrunch.com      1  throwawaymaths   \n",
      "1693               isopenbsdsecu.re      1    whereistimbo   \n",
      "1694                sourcegraph.com      1        ado__dev   \n",
      "\n",
      "                posted_at  comments  \\\n",
      "0     2024-04-25 01:44:44         0   \n",
      "1     2024-04-26 21:20:38         0   \n",
      "2     2024-04-26 01:46:30         0   \n",
      "3     2024-04-26 20:21:14         0   \n",
      "4     2024-04-24 23:53:55         0   \n",
      "...                   ...       ...   \n",
      "1690  2024-04-25 06:37:51         0   \n",
      "1691  2024-04-26 20:10:17         0   \n",
      "1692  2024-04-25 00:44:37         0   \n",
      "1693  2024-04-28 07:27:59         0   \n",
      "1694  2024-04-25 23:50:46         0   \n",
      "\n",
      "                                           source_title  \\\n",
      "0                               The Importance of Maybe   \n",
      "1                        Before you continue to YouTube   \n",
      "2     Overclocking My Brain: Adapting to Faster Audi...   \n",
      "3                                               wsj.com   \n",
      "4     WordPress Debugging Simplified with wpdebug.sh...   \n",
      "...                                                 ...   \n",
      "1690                Building a Micro HTMX SSR Framework   \n",
      "1691                                            Blocked   \n",
      "1692   TechCrunch is part of the Yahoo family of brands   \n",
      "1693                   Mitigations | Is OpenBSD secure?   \n",
      "1694         Local code completion with Ollama and Cody   \n",
      "\n",
      "                                            source_text  frontpage  \n",
      "0     The Importance of Maybe | zephyrtronium\\n\\n###...      False  \n",
      "1     Before you continue to YouTube\\n\\nA Google com...      False  \n",
      "2     Overclocking My Brain: Adapting to Faster Audi...      False  \n",
      "3                                           wsj.com\\n\\n       True  \n",
      "4     WordPress Debugging Simplified with wpdebug.sh...      False  \n",
      "...                                                 ...        ...  \n",
      "1690  Building a Micro HTMX SSR Framework\\n\\n# Build...      False  \n",
      "1691  Blocked\\n\\n# whoa there, pardner!\\n\\nYour requ...      False  \n",
      "1692  TechCrunch is part of the Yahoo family of bran...      False  \n",
      "1693  Mitigations | Is OpenBSD secure?\\n\\nskip to co...      False  \n",
      "1694  Local code completion with Ollama and Cody\\n\\n...      False  \n",
      "\n",
      "[1695 rows x 11 columns]\n"
     ]
    }
   ],
   "source": [
    "data = []\n",
    "def process_json(filename):\n",
    "    with open(filename, 'r') as f:\n",
    "        try:\n",
    "            # Load the JSON data and handle potential errors\n",
    "            json_data = json.load(f)\n",
    "            value_dict = json.loads(json_data['value'])\n",
    "\n",
    "            # Create a dictionary with the extracted values\n",
    "            data_dict = {\n",
    "                \"aid\": value_dict[\"aid\"],\n",
    "                \"title\": value_dict[\"title\"],\n",
    "                \"url\": value_dict[\"url\"],\n",
    "                \"domain\": value_dict[\"domain\"],\n",
    "                \"votes\": value_dict[\"votes\"],\n",
    "                \"user\": value_dict[\"user\"],\n",
    "                \"posted_at\": value_dict[\"posted_at\"],\n",
    "                \"comments\": value_dict[\"comments\"],\n",
    "                \"source_title\": value_dict[\"source_title\"],\n",
    "                \"source_text\": value_dict[\"source_text\"],\n",
    "                \"frontpage\": value_dict[\"frontpage\"]\n",
    "            }\n",
    "\n",
    "            # Append the dictionary to the data list\n",
    "            data.append(data_dict)\n",
    "        except json.JSONDecodeError as e:\n",
    "            print(f\"Error parsing JSON file '{filename}': {e}\")\n",
    "\n",
    "# Process each JSON file\n",
    "for filename in text_file_paths:\n",
    "    process_json(filename)\n",
    "\n",
    "# Create the DataFrame from the list of dictionaries\n",
    "df = pd.DataFrame(data)\n",
    "\n",
    "# Print the DataFrame\n",
    "print(df)\n",
    "df.to_csv('reviews150.csv', sep='\\t', index=False)"
   ]
  },
  {
   "cell_type": "code",
   "execution_count": 8,
   "id": "368d9d74-5244-469a-8d43-54384b2b4fa3",
   "metadata": {
    "tags": []
   },
   "outputs": [
    {
     "data": {
      "text/html": [
       "<div>\n",
       "<style scoped>\n",
       "    .dataframe tbody tr th:only-of-type {\n",
       "        vertical-align: middle;\n",
       "    }\n",
       "\n",
       "    .dataframe tbody tr th {\n",
       "        vertical-align: top;\n",
       "    }\n",
       "\n",
       "    .dataframe thead th {\n",
       "        text-align: right;\n",
       "    }\n",
       "</style>\n",
       "<table border=\"1\" class=\"dataframe\">\n",
       "  <thead>\n",
       "    <tr style=\"text-align: right;\">\n",
       "      <th></th>\n",
       "      <th>aid</th>\n",
       "      <th>title</th>\n",
       "      <th>url</th>\n",
       "      <th>domain</th>\n",
       "      <th>votes</th>\n",
       "      <th>user</th>\n",
       "      <th>posted_at</th>\n",
       "      <th>comments</th>\n",
       "      <th>source_title</th>\n",
       "      <th>source_text</th>\n",
       "      <th>frontpage</th>\n",
       "    </tr>\n",
       "  </thead>\n",
       "  <tbody>\n",
       "    <tr>\n",
       "      <th>0</th>\n",
       "      <td>40152353</td>\n",
       "      <td>The Importance of Maybe</td>\n",
       "      <td>https://zephyrtronium.github.io/articles/lang-...</td>\n",
       "      <td>zephyrtronium.github.io</td>\n",
       "      <td>1</td>\n",
       "      <td>Madxmike</td>\n",
       "      <td>2024-04-25 01:44:44</td>\n",
       "      <td>0</td>\n",
       "      <td>The Importance of Maybe</td>\n",
       "      <td>The Importance of Maybe | zephyrtronium\\n\\n###...</td>\n",
       "      <td>False</td>\n",
       "    </tr>\n",
       "    <tr>\n",
       "      <th>1</th>\n",
       "      <td>40174439</td>\n",
       "      <td>Noam Chomsky on Where AI Went Wrong (2012)</td>\n",
       "      <td>https://www.youtube.com/playlist?list=PL5lamnB...</td>\n",
       "      <td>youtube.com</td>\n",
       "      <td>2</td>\n",
       "      <td>max_</td>\n",
       "      <td>2024-04-26 21:20:38</td>\n",
       "      <td>0</td>\n",
       "      <td>Before you continue to YouTube</td>\n",
       "      <td>Before you continue to YouTube\\n\\nA Google com...</td>\n",
       "      <td>False</td>\n",
       "    </tr>\n",
       "    <tr>\n",
       "      <th>2</th>\n",
       "      <td>40165089</td>\n",
       "      <td>Overclocking My Brain: Adapting to Faster Audi...</td>\n",
       "      <td>https://buttondown.email/bimodalblitz/archive/...</td>\n",
       "      <td>buttondown.email/bimodalblitz</td>\n",
       "      <td>1</td>\n",
       "      <td>readtolive</td>\n",
       "      <td>2024-04-26 01:46:30</td>\n",
       "      <td>0</td>\n",
       "      <td>Overclocking My Brain: Adapting to Faster Audi...</td>\n",
       "      <td>Overclocking My Brain: Adapting to Faster Audi...</td>\n",
       "      <td>False</td>\n",
       "    </tr>\n",
       "    <tr>\n",
       "      <th>3</th>\n",
       "      <td>40173780</td>\n",
       "      <td>We Dropped This Phone from 300 Feet. Here's Wh...</td>\n",
       "      <td>https://www.wsj.com/video/series/joanna-stern-...</td>\n",
       "      <td>wsj.com</td>\n",
       "      <td>3</td>\n",
       "      <td>gnicholas</td>\n",
       "      <td>2024-04-26 20:21:14</td>\n",
       "      <td>0</td>\n",
       "      <td>wsj.com</td>\n",
       "      <td>wsj.com\\n\\n</td>\n",
       "      <td>True</td>\n",
       "    </tr>\n",
       "    <tr>\n",
       "      <th>4</th>\n",
       "      <td>40151430</td>\n",
       "      <td>WordPress Debugging Simplified with Wpdebug.sh</td>\n",
       "      <td>https://fervid.digital/articles/wordpress-debu...</td>\n",
       "      <td>fervid.digital</td>\n",
       "      <td>1</td>\n",
       "      <td>roymckenzie</td>\n",
       "      <td>2024-04-24 23:53:55</td>\n",
       "      <td>0</td>\n",
       "      <td>WordPress Debugging Simplified with wpdebug.sh...</td>\n",
       "      <td>WordPress Debugging Simplified with wpdebug.sh...</td>\n",
       "      <td>False</td>\n",
       "    </tr>\n",
       "  </tbody>\n",
       "</table>\n",
       "</div>"
      ],
      "text/plain": [
       "        aid                                              title  \\\n",
       "0  40152353                            The Importance of Maybe   \n",
       "1  40174439         Noam Chomsky on Where AI Went Wrong (2012)   \n",
       "2  40165089  Overclocking My Brain: Adapting to Faster Audi...   \n",
       "3  40173780  We Dropped This Phone from 300 Feet. Here's Wh...   \n",
       "4  40151430     WordPress Debugging Simplified with Wpdebug.sh   \n",
       "\n",
       "                                                 url  \\\n",
       "0  https://zephyrtronium.github.io/articles/lang-...   \n",
       "1  https://www.youtube.com/playlist?list=PL5lamnB...   \n",
       "2  https://buttondown.email/bimodalblitz/archive/...   \n",
       "3  https://www.wsj.com/video/series/joanna-stern-...   \n",
       "4  https://fervid.digital/articles/wordpress-debu...   \n",
       "\n",
       "                          domain  votes         user            posted_at  \\\n",
       "0        zephyrtronium.github.io      1     Madxmike  2024-04-25 01:44:44   \n",
       "1                    youtube.com      2         max_  2024-04-26 21:20:38   \n",
       "2  buttondown.email/bimodalblitz      1   readtolive  2024-04-26 01:46:30   \n",
       "3                        wsj.com      3    gnicholas  2024-04-26 20:21:14   \n",
       "4                 fervid.digital      1  roymckenzie  2024-04-24 23:53:55   \n",
       "\n",
       "   comments                                       source_title  \\\n",
       "0         0                            The Importance of Maybe   \n",
       "1         0                     Before you continue to YouTube   \n",
       "2         0  Overclocking My Brain: Adapting to Faster Audi...   \n",
       "3         0                                            wsj.com   \n",
       "4         0  WordPress Debugging Simplified with wpdebug.sh...   \n",
       "\n",
       "                                         source_text  frontpage  \n",
       "0  The Importance of Maybe | zephyrtronium\\n\\n###...      False  \n",
       "1  Before you continue to YouTube\\n\\nA Google com...      False  \n",
       "2  Overclocking My Brain: Adapting to Faster Audi...      False  \n",
       "3                                        wsj.com\\n\\n       True  \n",
       "4  WordPress Debugging Simplified with wpdebug.sh...      False  "
      ]
     },
     "execution_count": 8,
     "metadata": {},
     "output_type": "execute_result"
    }
   ],
   "source": [
    "df.head()"
   ]
  },
  {
   "cell_type": "code",
   "execution_count": 11,
   "id": "b14a5cb2-c933-4c7b-b9b9-e85c158511ba",
   "metadata": {
    "tags": []
   },
   "outputs": [
    {
     "data": {
      "text/html": [
       "<div>\n",
       "<style scoped>\n",
       "    .dataframe tbody tr th:only-of-type {\n",
       "        vertical-align: middle;\n",
       "    }\n",
       "\n",
       "    .dataframe tbody tr th {\n",
       "        vertical-align: top;\n",
       "    }\n",
       "\n",
       "    .dataframe thead th {\n",
       "        text-align: right;\n",
       "    }\n",
       "</style>\n",
       "<table border=\"1\" class=\"dataframe\">\n",
       "  <thead>\n",
       "    <tr style=\"text-align: right;\">\n",
       "      <th></th>\n",
       "      <th>votes</th>\n",
       "      <th>comments</th>\n",
       "    </tr>\n",
       "  </thead>\n",
       "  <tbody>\n",
       "    <tr>\n",
       "      <th>count</th>\n",
       "      <td>1695.000000</td>\n",
       "      <td>1695.000000</td>\n",
       "    </tr>\n",
       "    <tr>\n",
       "      <th>mean</th>\n",
       "      <td>3.390560</td>\n",
       "      <td>0.584661</td>\n",
       "    </tr>\n",
       "    <tr>\n",
       "      <th>std</th>\n",
       "      <td>7.966186</td>\n",
       "      <td>2.970298</td>\n",
       "    </tr>\n",
       "    <tr>\n",
       "      <th>min</th>\n",
       "      <td>1.000000</td>\n",
       "      <td>0.000000</td>\n",
       "    </tr>\n",
       "    <tr>\n",
       "      <th>25%</th>\n",
       "      <td>1.000000</td>\n",
       "      <td>0.000000</td>\n",
       "    </tr>\n",
       "    <tr>\n",
       "      <th>50%</th>\n",
       "      <td>1.000000</td>\n",
       "      <td>0.000000</td>\n",
       "    </tr>\n",
       "    <tr>\n",
       "      <th>75%</th>\n",
       "      <td>2.000000</td>\n",
       "      <td>0.000000</td>\n",
       "    </tr>\n",
       "    <tr>\n",
       "      <th>max</th>\n",
       "      <td>128.000000</td>\n",
       "      <td>46.000000</td>\n",
       "    </tr>\n",
       "  </tbody>\n",
       "</table>\n",
       "</div>"
      ],
      "text/plain": [
       "             votes     comments\n",
       "count  1695.000000  1695.000000\n",
       "mean      3.390560     0.584661\n",
       "std       7.966186     2.970298\n",
       "min       1.000000     0.000000\n",
       "25%       1.000000     0.000000\n",
       "50%       1.000000     0.000000\n",
       "75%       2.000000     0.000000\n",
       "max     128.000000    46.000000"
      ]
     },
     "execution_count": 11,
     "metadata": {},
     "output_type": "execute_result"
    }
   ],
   "source": [
    "df.describe()"
   ]
  },
  {
   "cell_type": "code",
   "execution_count": 13,
   "id": "951d988a-55e4-4f42-87f9-870d69fa288b",
   "metadata": {
    "tags": []
   },
   "outputs": [
    {
     "data": {
      "text/plain": [
       "<Axes: xlabel='frontpage', ylabel='comments'>"
      ]
     },
     "execution_count": 13,
     "metadata": {},
     "output_type": "execute_result"
    },
    {
     "data": {
      "image/png": "[encoded data removed]",
      "text/plain": [
       "<Figure size 640x480 with 1 Axes>"
      ]
     },
     "metadata": {},
     "output_type": "display_data"
    }
   ],
   "source": [
    "#Look at distributions for votes and comments based on frontpage value:\n",
    "import matplotlib as plt\n",
    "import seaborn as sns\n",
    "\n",
    "sns.barplot(x=\"frontpage\", y=\"comments\", data=df)"
   ]
  },
  {
   "cell_type": "code",
   "execution_count": 17,
   "id": "8f3cf3ea-f297-4c13-be6c-586532f87264",
   "metadata": {
    "tags": []
   },
   "outputs": [
    {
     "data": {
      "text/plain": [
       "<Axes: xlabel='frontpage', ylabel='votes'>"
      ]
     },
     "execution_count": 17,
     "metadata": {},
     "output_type": "execute_result"
    },
    {
     "data": {
      "image/png": "[encoded data removed]",
      "text/plain": [
       "<Figure size 640x480 with 1 Axes>"
      ]
     },
     "metadata": {},
     "output_type": "display_data"
    }
   ],
   "source": [
    "sns.barplot(x=\"frontpage\", y=\"votes\", data=df)"
   ]
  },
  {
   "cell_type": "code",
   "execution_count": 19,
   "id": "afb98794",
   "metadata": {},
   "outputs": [],
   "source": [
    "from pyspark.sql import SparkSession\n",
    "from pyspark.sql.functions import col\n",
    "from pyspark.ml.feature import Tokenizer, StopWordsRemover, CountVectorizer, IDF, StringIndexer, VectorAssembler\n",
    "from pyspark.ml.classification import LogisticRegression, RandomForestClassifier, GBTClassifier, MultilayerPerceptronClassifier\n",
    "from pyspark.ml.tuning import ParamGridBuilder, CrossValidator\n",
    "from pyspark.ml.evaluation import MulticlassClassificationEvaluator, BinaryClassificationEvaluator\n",
    "from pyspark.ml import Pipeline\n",
    "from pyspark.mllib.evaluation import MulticlassMetrics\n"
   ]
  },
  {
   "cell_type": "code",
   "execution_count": 21,
   "id": "cd7d9b76",
   "metadata": {},
   "outputs": [],
   "source": [
    "# create a SparkSession \n",
    "spark = SparkSession.builder \\\n",
    "    .appName(\"Deep_learning_txt\") \\\n",
    "    .getOrCreate()\n",
    "spark.conf.set(\"spark.sql.legacy.setCommandRejectsSparkCoreConfs\",\"false\")\n",
    "spark.conf.set(\"spark.executor.memory\", \"15g\")\n",
    "spark.conf.set(\"spark.executor.cores\", \"8\")\n",
    "# Remove duplicate row\n",
    "sdf = spark.createDataFrame(df)\n",
    "sdf=sdf.dropna()\n",
    "sdf = sdf.withColumn(\"frontpage\", col(\"frontpage\").cast(\"integer\"))"
   ]
  },
  {
   "cell_type": "code",
   "execution_count": 22,
   "id": "db1eebf4-eb59-4486-a9e0-b11cc8228ffc",
   "metadata": {
    "tags": []
   },
   "outputs": [
    {
     "data": {
      "text/html": [
       "\n",
       "            <div>\n",
       "                <p><b>SparkSession - in-memory</b></p>\n",
       "                \n",
       "        <div>\n",
       "            <p><b>SparkContext</b></p>\n",
       "\n",
       "            <p><a href=\"http://LAPTOP-DEAJH2JG:4040\">Spark UI</a></p>\n",
       "\n",
       "            <dl>\n",
       "              <dt>Version</dt>\n",
       "                <dd><code>v3.4.1</code></dd>\n",
       "              <dt>Master</dt>\n",
       "                <dd><code>local[*]</code></dd>\n",
       "              <dt>AppName</dt>\n",
       "                <dd><code>Deep_learning_txt</code></dd>\n",
       "            </dl>\n",
       "        </div>\n",
       "        \n",
       "            </div>\n",
       "        "
      ],
      "text/plain": [
       "<pyspark.sql.session.SparkSession at 0x13b93ff40d0>"
      ]
     },
     "execution_count": 22,
     "metadata": {},
     "output_type": "execute_result"
    }
   ],
   "source": [
    "spark"
   ]
  },
  {
   "cell_type": "code",
   "execution_count": 25,
   "id": "f3f3c837-ac7b-46fc-b575-9ea0442b1e07",
   "metadata": {
    "tags": []
   },
   "outputs": [
    {
     "name": "stdout",
     "output_type": "stream",
     "text": [
      "root\n",
      " |-- aid: string (nullable = true)\n",
      " |-- title: string (nullable = true)\n",
      " |-- url: string (nullable = true)\n",
      " |-- domain: string (nullable = true)\n",
      " |-- votes: long (nullable = true)\n",
      " |-- user: string (nullable = true)\n",
      " |-- posted_at: string (nullable = true)\n",
      " |-- comments: long (nullable = true)\n",
      " |-- source_title: string (nullable = true)\n",
      " |-- source_text: string (nullable = true)\n",
      " |-- frontpage: integer (nullable = true)\n",
      "\n"
     ]
    }
   ],
   "source": [
    "sdf.printSchema()"
   ]
  },
  {
   "cell_type": "code",
   "execution_count": 27,
   "id": "fb9884b0",
   "metadata": {},
   "outputs": [
    {
     "name": "stdout",
     "output_type": "stream",
     "text": [
      "Frontpage: True 282\n",
      "Frontpage: False  1382\n"
     ]
    }
   ],
   "source": [
    "train_data, test_data = sdf.randomSplit([0.8, 0.2], seed=123)\n",
    "print(\"Frontpage: True\", train_data.filter(col(\"frontpage\") == True).count()+test_data.filter(col(\"frontpage\") == True).count())\n",
    "print(\"Frontpage: False \", train_data.filter(col(\"frontpage\") == False).count()+test_data.filter(col(\"frontpage\") == False).count())"
   ]
  },
  {
   "cell_type": "markdown",
   "id": "a2c0ea30-8e51-4c7b-aa63-d4fc76cec06c",
   "metadata": {},
   "source": [
    " -  Tokenizer: converts input string to lowercase and then splits it by white spaces\n",
    " -  StopWordsRemover: removes stop words from the input\n",
    " -  CountVectorizer: Generates a vocabulary and frequency list\n",
    " -  IDF: Inverse document frequency. How important is a word"
   ]
  },
  {
   "cell_type": "code",
   "execution_count": 29,
   "id": "6c9fd461-3143-4e20-9f90-0fd935498980",
   "metadata": {
    "tags": []
   },
   "outputs": [
    {
     "name": "stdout",
     "output_type": "stream",
     "text": [
      "   frontpage  count\n",
      "0          1    214\n",
      "1          0   1104\n",
      "+---------+------------------+\n",
      "|frontpage|            weight|\n",
      "+---------+------------------+\n",
      "|        1|3.0794392523364484|\n",
      "|        1|3.0794392523364484|\n",
      "|        1|3.0794392523364484|\n",
      "+---------+------------------+\n",
      "only showing top 3 rows\n",
      "\n"
     ]
    }
   ],
   "source": [
    "#create a sample weight column using the training data\n",
    "from pyspark.sql.functions import col\n",
    "from pyspark.sql.functions import when\n",
    "\n",
    "counts = train_data.groupBy(\"frontpage\").count().toPandas()\n",
    "print(counts)\n",
    "\n",
    "#Counts\n",
    "count_frontpage = counts[counts[\"frontpage\"]==1][\"count\"].values[0]\n",
    "count_total = counts[\"count\"].sum()\n",
    "\n",
    "#Weights\n",
    "weight_frontpage= count_total/(2*count_frontpage)\n",
    "weight_notfront=count_total / (2*(count_total-count_frontpage))\n",
    "\n",
    "#Add weights as new column in dataframe\n",
    "train_data = train_data.withColumn(\"weight\", when(col(\"frontpage\")==1, weight_frontpage).otherwise(weight_notfront))\n",
    "\n",
    "#Check to see if this looks good\n",
    "\n",
    "train_data.select(\"frontpage\", \"weight\").where(col(\"frontpage\")==1).show(3)"
   ]
  },
  {
   "cell_type": "code",
   "execution_count": 30,
   "id": "3fc15fd4",
   "metadata": {},
   "outputs": [],
   "source": [
    "#sdf = sdf.withColumn(\"frontpage\", col(\"frontpage\").cast(\"integer\"))\n",
    "\n",
    "# preprocess the data\n",
    "tokenizer = Tokenizer(inputCol=\"title\", outputCol=\"words\")\n",
    "stopwords_remover = StopWordsRemover(inputCol=\"words\", outputCol=\"filtered_words\", locale=\"en_US\")\n",
    "count_vectorizer = CountVectorizer(inputCol=\"filtered_words\", outputCol=\"raw_features\")\n",
    "idf = IDF(inputCol=\"raw_features\", outputCol=\"text_features\")\n",
    "featureassembler=VectorAssembler(inputCols=[\"text_features\", \"votes\", \"comments\"], outputCol=\"features\")\n",
    "string_indexer = StringIndexer(inputCol=\"frontpage\", outputCol=\"label\")\n"
   ]
  },
  {
   "cell_type": "code",
   "execution_count": 31,
   "id": "6b148d7d-2861-4cf7-953e-f8a68eee9315",
   "metadata": {
    "tags": []
   },
   "outputs": [],
   "source": [
    "#Preprocessing Pipeline:\n",
    "\n",
    "pipeline = Pipeline(stages=[tokenizer, stopwords_remover, count_vectorizer, idf, featureassembler, string_indexer])\n",
    "pre = pipeline.fit(train_data)\n",
    "train_transformed = pre.transform(train_data)\n",
    "test_transformed = pre.transform(test_data)"
   ]
  },
  {
   "cell_type": "code",
   "execution_count": 34,
   "id": "be39704b-b02f-48cb-8f6c-758f28d5b10c",
   "metadata": {
    "tags": []
   },
   "outputs": [
    {
     "name": "stdout",
     "output_type": "stream",
     "text": [
      "\tAUROC\t\t\tAUPR\n",
      "LR\t0.907955988150656\t0.8063857594456683\n",
      "GB\t0.988335801946678\t0.6964562742283469\n",
      "RF\t0.8866906474820144\t0.8577579584488122\n",
      "WLR\t0.8536288616165891\t0.7103276349084015\n",
      "WGB\t0.9866959373677529\t0.5816803951735132\n",
      "WRF\t0.9724396953025815\t0.8799700581055311\n"
     ]
    }
   ],
   "source": [
    "# create models\n",
    "models = []\n",
    "models.append((\"LR\", LogisticRegression(featuresCol=\"features\", labelCol=\"label\")))\n",
    "models.append((\"GB\", GBTClassifier(featuresCol=\"features\", labelCol=\"label\")))\n",
    "models.append((\"RF\", RandomForestClassifier(featuresCol=\"features\", labelCol=\"label\")))\n",
    "models.append((\"WLR\", LogisticRegression(featuresCol=\"features\", labelCol=\"label\",weightCol=\"weight\")))\n",
    "models.append((\"WGB\", GBTClassifier(featuresCol=\"features\", labelCol=\"label\",weightCol=\"weight\")))\n",
    "models.append((\"WRF\", RandomForestClassifier(featuresCol=\"features\", labelCol=\"label\",weightCol=\"weight\")))\n",
    "\n",
    "#confusion: how to get accuracy, recall auc????\n",
    "print(\"\\tAUROC\\t\\t\\tAUPR\")\n",
    "for name, model in models:\n",
    "    model_trained = model.fit(train_transformed)\n",
    "    predictions = model_trained.transform(test_transformed)\n",
    "    #Use binary classification to get auc:\n",
    "    evaluator = BinaryClassificationEvaluator(labelCol='label')\n",
    "    auc = evaluator.evaluate(predictions,{evaluator.metricName:'areaUnderROC'})\n",
    "    aupr = evaluator.evaluate(predictions,{evaluator.metricName:'areaUnderPR'})\n",
    "    #Get other metrics using an rdd: caused crashing issues for some reason\n",
    "    #pred_rdd = predictions.select('prediction','label').rdd.map(tuple)\n",
    "    #metrics = MulticlassMetrics(pred_rdd)\n",
    "    #accuracy = metrics.accuracy   # Positive class\n",
    "    #precision = metrics.precision(1.0)  # Positive class\n",
    "    #recall = metrics.recall(1.0)  # Positive class\n",
    "    #f1 = metrics.fMeasure(1.0)  # Positive class\n",
    "    print(f\"{name}\\t{auc}\\t{aupr}\")\n"
   ]
  },
  {
   "cell_type": "code",
   "execution_count": 36,
   "id": "3d7bc538",
   "metadata": {},
   "outputs": [
    {
     "name": "stdout",
     "output_type": "stream",
     "text": [
      "auroc: 0.9488997037663987\n",
      "aupr:  0.8674312726570351\n"
     ]
    }
   ],
   "source": [
    "#Best model is random forest with sample weights. Fit full pipeline to save the model:\n",
    "gb = GBTClassifier(featuresCol=\"features\", labelCol=\"frontpage\",weightCol=\"weight\")\n",
    "final_pipeline = Pipeline(stages=[tokenizer, stopwords_remover, count_vectorizer, idf, featureassembler, gb])\n",
    "evaluator = BinaryClassificationEvaluator(labelCol='frontpage')\n",
    "\n",
    "final_model = final_pipeline.fit(train_data)\n",
    "predictions = final_model.transform(test_data)\n",
    "\n",
    "auc = evaluator.evaluate(predictions,{evaluator.metricName:'areaUnderROC'})\n",
    "aupr = evaluator.evaluate(predictions,{evaluator.metricName:'areaUnderPR'})\n",
    "\n",
    "print(\"auroc: \"+ str(auc))\n",
    "print(\"aupr:  \"+ str(aupr))"
   ]
  },
  {
   "cell_type": "code",
   "execution_count": 38,
   "id": "fbc09230-971b-4255-9465-245ce933c944",
   "metadata": {},
   "outputs": [
    {
     "ename": "Py4JJavaError",
     "evalue": "An error occurred while calling o1017.save.\n: java.lang.RuntimeException: java.io.FileNotFoundException: java.io.FileNotFoundException: HADOOP_HOME and hadoop.home.dir are unset. -see https://wiki.apache.org/hadoop/WindowsProblems\r\n\tat org.apache.hadoop.util.Shell.getWinUtilsPath(Shell.java:735)\r\n\tat org.apache.hadoop.util.Shell.getSetPermissionCommand(Shell.java:270)\r\n\tat org.apache.hadoop.util.Shell.getSetPermissionCommand(Shell.java:286)\r\n\tat org.apache.hadoop.fs.RawLocalFileSystem.setPermission(RawLocalFileSystem.java:978)\r\n\tat org.apache.hadoop.fs.RawLocalFileSystem.mkOneDirWithMode(RawLocalFileSystem.java:660)\r\n\tat org.apache.hadoop.fs.RawLocalFileSystem.mkdirsWithOptionalPermission(RawLocalFileSystem.java:700)\r\n\tat org.apache.hadoop.fs.RawLocalFileSystem.mkdirs(RawLocalFileSystem.java:672)\r\n\tat org.apache.hadoop.fs.RawLocalFileSystem.mkdirsWithOptionalPermission(RawLocalFileSystem.java:699)\r\n\tat org.apache.hadoop.fs.RawLocalFileSystem.mkdirs(RawLocalFileSystem.java:672)\r\n\tat org.apache.hadoop.fs.RawLocalFileSystem.mkdirsWithOptionalPermission(RawLocalFileSystem.java:699)\r\n\tat org.apache.hadoop.fs.RawLocalFileSystem.mkdirs(RawLocalFileSystem.java:672)\r\n\tat org.apache.hadoop.fs.RawLocalFileSystem.mkdirsWithOptionalPermission(RawLocalFileSystem.java:699)\r\n\tat org.apache.hadoop.fs.RawLocalFileSystem.mkdirs(RawLocalFileSystem.java:672)\r\n\tat org.apache.hadoop.fs.ChecksumFileSystem.mkdirs(ChecksumFileSystem.java:788)\r\n\tat org.apache.hadoop.mapreduce.lib.output.FileOutputCommitter.setupJob(FileOutputCommitter.java:356)\r\n\tat org.apache.hadoop.mapred.FileOutputCommitter.setupJob(FileOutputCommitter.java:131)\r\n\tat org.apache.hadoop.mapred.OutputCommitter.setupJob(OutputCommitter.java:265)\r\n\tat org.apache.spark.internal.io.HadoopMapReduceCommitProtocol.setupJob(HadoopMapReduceCommitProtocol.scala:188)\r\n\tat org.apache.spark.internal.io.SparkHadoopWriter$.write(SparkHadoopWriter.scala:79)\r\n\tat org.apache.spark.rdd.PairRDDFunctions.$anonfun$saveAsHadoopDataset$1(PairRDDFunctions.scala:1091)\r\n\tat scala.runtime.java8.JFunction0$mcV$sp.apply(JFunction0$mcV$sp.java:23)\r\n\tat org.apache.spark.rdd.RDDOperationScope$.withScope(RDDOperationScope.scala:151)\r\n\tat org.apache.spark.rdd.RDDOperationScope$.withScope(RDDOperationScope.scala:112)\r\n\tat org.apache.spark.rdd.RDD.withScope(RDD.scala:405)\r\n\tat org.apache.spark.rdd.PairRDDFunctions.saveAsHadoopDataset(PairRDDFunctions.scala:1089)\r\n\tat org.apache.spark.rdd.PairRDDFunctions.$anonfun$saveAsHadoopFile$4(PairRDDFunctions.scala:1062)\r\n\tat scala.runtime.java8.JFunction0$mcV$sp.apply(JFunction0$mcV$sp.java:23)\r\n\tat org.apache.spark.rdd.RDDOperationScope$.withScope(RDDOperationScope.scala:151)\r\n\tat org.apache.spark.rdd.RDDOperationScope$.withScope(RDDOperationScope.scala:112)\r\n\tat org.apache.spark.rdd.RDD.withScope(RDD.scala:405)\r\n\tat org.apache.spark.rdd.PairRDDFunctions.saveAsHadoopFile(PairRDDFunctions.scala:1027)\r\n\tat org.apache.spark.rdd.PairRDDFunctions.$anonfun$saveAsHadoopFile$3(PairRDDFunctions.scala:1009)\r\n\tat scala.runtime.java8.JFunction0$mcV$sp.apply(JFunction0$mcV$sp.java:23)\r\n\tat org.apache.spark.rdd.RDDOperationScope$.withScope(RDDOperationScope.scala:151)\r\n\tat org.apache.spark.rdd.RDDOperationScope$.withScope(RDDOperationScope.scala:112)\r\n\tat org.apache.spark.rdd.RDD.withScope(RDD.scala:405)\r\n\tat org.apache.spark.rdd.PairRDDFunctions.saveAsHadoopFile(PairRDDFunctions.scala:1008)\r\n\tat org.apache.spark.rdd.PairRDDFunctions.$anonfun$saveAsHadoopFile$2(PairRDDFunctions.scala:965)\r\n\tat scala.runtime.java8.JFunction0$mcV$sp.apply(JFunction0$mcV$sp.java:23)\r\n\tat org.apache.spark.rdd.RDDOperationScope$.withScope(RDDOperationScope.scala:151)\r\n\tat org.apache.spark.rdd.RDDOperationScope$.withScope(RDDOperationScope.scala:112)\r\n\tat org.apache.spark.rdd.RDD.withScope(RDD.scala:405)\r\n\tat org.apache.spark.rdd.PairRDDFunctions.saveAsHadoopFile(PairRDDFunctions.scala:963)\r\n\tat org.apache.spark.rdd.RDD.$anonfun$saveAsTextFile$2(RDD.scala:1593)\r\n\tat scala.runtime.java8.JFunction0$mcV$sp.apply(JFunction0$mcV$sp.java:23)\r\n\tat org.apache.spark.rdd.RDDOperationScope$.withScope(RDDOperationScope.scala:151)\r\n\tat org.apache.spark.rdd.RDDOperationScope$.withScope(RDDOperationScope.scala:112)\r\n\tat org.apache.spark.rdd.RDD.withScope(RDD.scala:405)\r\n\tat org.apache.spark.rdd.RDD.saveAsTextFile(RDD.scala:1593)\r\n\tat org.apache.spark.rdd.RDD.$anonfun$saveAsTextFile$1(RDD.scala:1579)\r\n\tat scala.runtime.java8.JFunction0$mcV$sp.apply(JFunction0$mcV$sp.java:23)\r\n\tat org.apache.spark.rdd.RDDOperationScope$.withScope(RDDOperationScope.scala:151)\r\n\tat org.apache.spark.rdd.RDDOperationScope$.withScope(RDDOperationScope.scala:112)\r\n\tat org.apache.spark.rdd.RDD.withScope(RDD.scala:405)\r\n\tat org.apache.spark.rdd.RDD.saveAsTextFile(RDD.scala:1579)\r\n\tat org.apache.spark.ml.util.DefaultParamsWriter$.saveMetadata(ReadWrite.scala:413)\r\n\tat org.apache.spark.ml.Pipeline$SharedReadWrite$.$anonfun$saveImpl$1(Pipeline.scala:250)\r\n\tat org.apache.spark.ml.Pipeline$SharedReadWrite$.$anonfun$saveImpl$1$adapted(Pipeline.scala:247)\r\n\tat org.apache.spark.ml.util.Instrumentation$.$anonfun$instrumented$1(Instrumentation.scala:191)\r\n\tat scala.util.Try$.apply(Try.scala:213)\r\n\tat org.apache.spark.ml.util.Instrumentation$.instrumented(Instrumentation.scala:191)\r\n\tat org.apache.spark.ml.Pipeline$SharedReadWrite$.saveImpl(Pipeline.scala:247)\r\n\tat org.apache.spark.ml.PipelineModel$PipelineModelWriter.saveImpl(Pipeline.scala:346)\r\n\tat org.apache.spark.ml.util.MLWriter.save(ReadWrite.scala:168)\r\n\tat org.apache.spark.ml.PipelineModel$PipelineModelWriter.super$save(Pipeline.scala:344)\r\n\tat org.apache.spark.ml.PipelineModel$PipelineModelWriter.$anonfun$save$4(Pipeline.scala:344)\r\n\tat org.apache.spark.ml.MLEvents.withSaveInstanceEvent(events.scala:174)\r\n\tat org.apache.spark.ml.MLEvents.withSaveInstanceEvent$(events.scala:169)\r\n\tat org.apache.spark.ml.util.Instrumentation.withSaveInstanceEvent(Instrumentation.scala:42)\r\n\tat org.apache.spark.ml.PipelineModel$PipelineModelWriter.$anonfun$save$3(Pipeline.scala:344)\r\n\tat org.apache.spark.ml.PipelineModel$PipelineModelWriter.$anonfun$save$3$adapted(Pipeline.scala:344)\r\n\tat org.apache.spark.ml.util.Instrumentation$.$anonfun$instrumented$1(Instrumentation.scala:191)\r\n\tat scala.util.Try$.apply(Try.scala:213)\r\n\tat org.apache.spark.ml.util.Instrumentation$.instrumented(Instrumentation.scala:191)\r\n\tat org.apache.spark.ml.PipelineModel$PipelineModelWriter.save(Pipeline.scala:344)\r\n\tat java.base/jdk.internal.reflect.NativeMethodAccessorImpl.invoke0(Native Method)\r\n\tat java.base/jdk.internal.reflect.NativeMethodAccessorImpl.invoke(NativeMethodAccessorImpl.java:62)\r\n\tat java.base/jdk.internal.reflect.DelegatingMethodAccessorImpl.invoke(DelegatingMethodAccessorImpl.java:43)\r\n\tat java.base/java.lang.reflect.Method.invoke(Method.java:566)\r\n\tat py4j.reflection.MethodInvoker.invoke(MethodInvoker.java:244)\r\n\tat py4j.reflection.ReflectionEngine.invoke(ReflectionEngine.java:374)\r\n\tat py4j.Gateway.invoke(Gateway.java:282)\r\n\tat py4j.commands.AbstractCommand.invokeMethod(AbstractCommand.java:132)\r\n\tat py4j.commands.CallCommand.execute(CallCommand.java:79)\r\n\tat py4j.ClientServerConnection.waitForCommands(ClientServerConnection.java:182)\r\n\tat py4j.ClientServerConnection.run(ClientServerConnection.java:106)\r\n\tat java.base/java.lang.Thread.run(Thread.java:829)\r\nCaused by: java.io.FileNotFoundException: java.io.FileNotFoundException: HADOOP_HOME and hadoop.home.dir are unset. -see https://wiki.apache.org/hadoop/WindowsProblems\r\n\tat org.apache.hadoop.util.Shell.fileNotFoundException(Shell.java:547)\r\n\tat org.apache.hadoop.util.Shell.getHadoopHomeDir(Shell.java:568)\r\n\tat org.apache.hadoop.util.Shell.getQualifiedBin(Shell.java:591)\r\n\tat org.apache.hadoop.util.Shell.<clinit>(Shell.java:688)\r\n\tat org.apache.hadoop.util.StringUtils.<clinit>(StringUtils.java:79)\r\n\tat org.apache.hadoop.conf.Configuration.getTimeDurationHelper(Configuration.java:1907)\r\n\tat org.apache.hadoop.conf.Configuration.getTimeDuration(Configuration.java:1867)\r\n\tat org.apache.hadoop.conf.Configuration.getTimeDuration(Configuration.java:1840)\r\n\tat org.apache.hadoop.util.ShutdownHookManager.getShutdownTimeout(ShutdownHookManager.java:183)\r\n\tat org.apache.hadoop.util.ShutdownHookManager$HookEntry.<init>(ShutdownHookManager.java:207)\r\n\tat org.apache.hadoop.util.ShutdownHookManager.addShutdownHook(ShutdownHookManager.java:304)\r\n\tat org.apache.spark.util.SparkShutdownHookManager.install(ShutdownHookManager.scala:181)\r\n\tat org.apache.spark.util.ShutdownHookManager$.shutdownHooks$lzycompute(ShutdownHookManager.scala:50)\r\n\tat org.apache.spark.util.ShutdownHookManager$.shutdownHooks(ShutdownHookManager.scala:48)\r\n\tat org.apache.spark.util.ShutdownHookManager$.addShutdownHook(ShutdownHookManager.scala:153)\r\n\tat org.apache.spark.util.ShutdownHookManager$.<init>(ShutdownHookManager.scala:58)\r\n\tat org.apache.spark.util.ShutdownHookManager$.<clinit>(ShutdownHookManager.scala)\r\n\tat org.apache.spark.util.Utils$.createTempDir(Utils.scala:341)\r\n\tat org.apache.spark.util.Utils$.createTempDir(Utils.scala:331)\r\n\tat org.apache.spark.deploy.SparkSubmit.prepareSubmitEnvironment(SparkSubmit.scala:370)\r\n\tat org.apache.spark.deploy.SparkSubmit.org$apache$spark$deploy$SparkSubmit$$runMain(SparkSubmit.scala:955)\r\n\tat org.apache.spark.deploy.SparkSubmit.doRunMain$1(SparkSubmit.scala:192)\r\n\tat org.apache.spark.deploy.SparkSubmit.submit(SparkSubmit.scala:215)\r\n\tat org.apache.spark.deploy.SparkSubmit.doSubmit(SparkSubmit.scala:91)\r\n\tat org.apache.spark.deploy.SparkSubmit$$anon$2.doSubmit(SparkSubmit.scala:1111)\r\n\tat org.apache.spark.deploy.SparkSubmit$.main(SparkSubmit.scala:1120)\r\n\tat org.apache.spark.deploy.SparkSubmit.main(SparkSubmit.scala)\r\nCaused by: java.io.FileNotFoundException: HADOOP_HOME and hadoop.home.dir are unset.\r\n\tat org.apache.hadoop.util.Shell.checkHadoopHomeInner(Shell.java:467)\r\n\tat org.apache.hadoop.util.Shell.checkHadoopHome(Shell.java:438)\r\n\tat org.apache.hadoop.util.Shell.<clinit>(Shell.java:515)\r\n\t... 23 more\r\n",
     "output_type": "error",
     "traceback": [
      "\u001b[1;31m---------------------------------------------------------------------------\u001b[0m",
      "\u001b[1;31mPy4JJavaError\u001b[0m                             Traceback (most recent call last)",
      "Cell \u001b[1;32mIn[38], line 1\u001b[0m\n\u001b[1;32m----> 1\u001b[0m final_model\u001b[38;5;241m.\u001b[39msave(\u001b[38;5;124m\"\u001b[39m\u001b[38;5;124mrf_Model\u001b[39m\u001b[38;5;124m\"\u001b[39m)\n",
      "File \u001b[1;32m~\\anaconda3\\Lib\\site-packages\\pyspark\\ml\\util.py:246\u001b[0m, in \u001b[0;36mMLWritable.save\u001b[1;34m(self, path)\u001b[0m\n\u001b[0;32m    244\u001b[0m \u001b[38;5;28;01mdef\u001b[39;00m \u001b[38;5;21msave\u001b[39m(\u001b[38;5;28mself\u001b[39m, path: \u001b[38;5;28mstr\u001b[39m) \u001b[38;5;241m-\u001b[39m\u001b[38;5;241m>\u001b[39m \u001b[38;5;28;01mNone\u001b[39;00m:\n\u001b[0;32m    245\u001b[0m \u001b[38;5;250m    \u001b[39m\u001b[38;5;124;03m\"\"\"Save this ML instance to the given path, a shortcut of 'write().save(path)'.\"\"\"\u001b[39;00m\n\u001b[1;32m--> 246\u001b[0m     \u001b[38;5;28mself\u001b[39m\u001b[38;5;241m.\u001b[39mwrite()\u001b[38;5;241m.\u001b[39msave(path)\n",
      "File \u001b[1;32m~\\anaconda3\\Lib\\site-packages\\pyspark\\ml\\util.py:197\u001b[0m, in \u001b[0;36mJavaMLWriter.save\u001b[1;34m(self, path)\u001b[0m\n\u001b[0;32m    195\u001b[0m \u001b[38;5;28;01mif\u001b[39;00m \u001b[38;5;129;01mnot\u001b[39;00m \u001b[38;5;28misinstance\u001b[39m(path, \u001b[38;5;28mstr\u001b[39m):\n\u001b[0;32m    196\u001b[0m     \u001b[38;5;28;01mraise\u001b[39;00m \u001b[38;5;167;01mTypeError\u001b[39;00m(\u001b[38;5;124m\"\u001b[39m\u001b[38;5;124mpath should be a string, got type \u001b[39m\u001b[38;5;132;01m%s\u001b[39;00m\u001b[38;5;124m\"\u001b[39m \u001b[38;5;241m%\u001b[39m \u001b[38;5;28mtype\u001b[39m(path))\n\u001b[1;32m--> 197\u001b[0m \u001b[38;5;28mself\u001b[39m\u001b[38;5;241m.\u001b[39m_jwrite\u001b[38;5;241m.\u001b[39msave(path)\n",
      "File \u001b[1;32m~\\anaconda3\\Lib\\site-packages\\py4j\\java_gateway.py:1322\u001b[0m, in \u001b[0;36mJavaMember.__call__\u001b[1;34m(self, *args)\u001b[0m\n\u001b[0;32m   1316\u001b[0m command \u001b[38;5;241m=\u001b[39m proto\u001b[38;5;241m.\u001b[39mCALL_COMMAND_NAME \u001b[38;5;241m+\u001b[39m\\\n\u001b[0;32m   1317\u001b[0m     \u001b[38;5;28mself\u001b[39m\u001b[38;5;241m.\u001b[39mcommand_header \u001b[38;5;241m+\u001b[39m\\\n\u001b[0;32m   1318\u001b[0m     args_command \u001b[38;5;241m+\u001b[39m\\\n\u001b[0;32m   1319\u001b[0m     proto\u001b[38;5;241m.\u001b[39mEND_COMMAND_PART\n\u001b[0;32m   1321\u001b[0m answer \u001b[38;5;241m=\u001b[39m \u001b[38;5;28mself\u001b[39m\u001b[38;5;241m.\u001b[39mgateway_client\u001b[38;5;241m.\u001b[39msend_command(command)\n\u001b[1;32m-> 1322\u001b[0m return_value \u001b[38;5;241m=\u001b[39m get_return_value(\n\u001b[0;32m   1323\u001b[0m     answer, \u001b[38;5;28mself\u001b[39m\u001b[38;5;241m.\u001b[39mgateway_client, \u001b[38;5;28mself\u001b[39m\u001b[38;5;241m.\u001b[39mtarget_id, \u001b[38;5;28mself\u001b[39m\u001b[38;5;241m.\u001b[39mname)\n\u001b[0;32m   1325\u001b[0m \u001b[38;5;28;01mfor\u001b[39;00m temp_arg \u001b[38;5;129;01min\u001b[39;00m temp_args:\n\u001b[0;32m   1326\u001b[0m     \u001b[38;5;28;01mif\u001b[39;00m \u001b[38;5;28mhasattr\u001b[39m(temp_arg, \u001b[38;5;124m\"\u001b[39m\u001b[38;5;124m_detach\u001b[39m\u001b[38;5;124m\"\u001b[39m):\n",
      "File \u001b[1;32m~\\anaconda3\\Lib\\site-packages\\pyspark\\errors\\exceptions\\captured.py:169\u001b[0m, in \u001b[0;36mcapture_sql_exception.<locals>.deco\u001b[1;34m(*a, **kw)\u001b[0m\n\u001b[0;32m    167\u001b[0m \u001b[38;5;28;01mdef\u001b[39;00m \u001b[38;5;21mdeco\u001b[39m(\u001b[38;5;241m*\u001b[39ma: Any, \u001b[38;5;241m*\u001b[39m\u001b[38;5;241m*\u001b[39mkw: Any) \u001b[38;5;241m-\u001b[39m\u001b[38;5;241m>\u001b[39m Any:\n\u001b[0;32m    168\u001b[0m     \u001b[38;5;28;01mtry\u001b[39;00m:\n\u001b[1;32m--> 169\u001b[0m         \u001b[38;5;28;01mreturn\u001b[39;00m f(\u001b[38;5;241m*\u001b[39ma, \u001b[38;5;241m*\u001b[39m\u001b[38;5;241m*\u001b[39mkw)\n\u001b[0;32m    170\u001b[0m     \u001b[38;5;28;01mexcept\u001b[39;00m Py4JJavaError \u001b[38;5;28;01mas\u001b[39;00m e:\n\u001b[0;32m    171\u001b[0m         converted \u001b[38;5;241m=\u001b[39m convert_exception(e\u001b[38;5;241m.\u001b[39mjava_exception)\n",
      "File \u001b[1;32m~\\anaconda3\\Lib\\site-packages\\py4j\\protocol.py:326\u001b[0m, in \u001b[0;36mget_return_value\u001b[1;34m(answer, gateway_client, target_id, name)\u001b[0m\n\u001b[0;32m    324\u001b[0m value \u001b[38;5;241m=\u001b[39m OUTPUT_CONVERTER[\u001b[38;5;28mtype\u001b[39m](answer[\u001b[38;5;241m2\u001b[39m:], gateway_client)\n\u001b[0;32m    325\u001b[0m \u001b[38;5;28;01mif\u001b[39;00m answer[\u001b[38;5;241m1\u001b[39m] \u001b[38;5;241m==\u001b[39m REFERENCE_TYPE:\n\u001b[1;32m--> 326\u001b[0m     \u001b[38;5;28;01mraise\u001b[39;00m Py4JJavaError(\n\u001b[0;32m    327\u001b[0m         \u001b[38;5;124m\"\u001b[39m\u001b[38;5;124mAn error occurred while calling \u001b[39m\u001b[38;5;132;01m{0}\u001b[39;00m\u001b[38;5;132;01m{1}\u001b[39;00m\u001b[38;5;132;01m{2}\u001b[39;00m\u001b[38;5;124m.\u001b[39m\u001b[38;5;130;01m\\n\u001b[39;00m\u001b[38;5;124m\"\u001b[39m\u001b[38;5;241m.\u001b[39m\n\u001b[0;32m    328\u001b[0m         \u001b[38;5;28mformat\u001b[39m(target_id, \u001b[38;5;124m\"\u001b[39m\u001b[38;5;124m.\u001b[39m\u001b[38;5;124m\"\u001b[39m, name), value)\n\u001b[0;32m    329\u001b[0m \u001b[38;5;28;01melse\u001b[39;00m:\n\u001b[0;32m    330\u001b[0m     \u001b[38;5;28;01mraise\u001b[39;00m Py4JError(\n\u001b[0;32m    331\u001b[0m         \u001b[38;5;124m\"\u001b[39m\u001b[38;5;124mAn error occurred while calling \u001b[39m\u001b[38;5;132;01m{0}\u001b[39;00m\u001b[38;5;132;01m{1}\u001b[39;00m\u001b[38;5;132;01m{2}\u001b[39;00m\u001b[38;5;124m. Trace:\u001b[39m\u001b[38;5;130;01m\\n\u001b[39;00m\u001b[38;5;132;01m{3}\u001b[39;00m\u001b[38;5;130;01m\\n\u001b[39;00m\u001b[38;5;124m\"\u001b[39m\u001b[38;5;241m.\u001b[39m\n\u001b[0;32m    332\u001b[0m         \u001b[38;5;28mformat\u001b[39m(target_id, \u001b[38;5;124m\"\u001b[39m\u001b[38;5;124m.\u001b[39m\u001b[38;5;124m\"\u001b[39m, name, value))\n",
      "\u001b[1;31mPy4JJavaError\u001b[0m: An error occurred while calling o1017.save.\n: java.lang.RuntimeException: java.io.FileNotFoundException: java.io.FileNotFoundException: HADOOP_HOME and hadoop.home.dir are unset. -see https://wiki.apache.org/hadoop/WindowsProblems\r\n\tat org.apache.hadoop.util.Shell.getWinUtilsPath(Shell.java:735)\r\n\tat org.apache.hadoop.util.Shell.getSetPermissionCommand(Shell.java:270)\r\n\tat org.apache.hadoop.util.Shell.getSetPermissionCommand(Shell.java:286)\r\n\tat org.apache.hadoop.fs.RawLocalFileSystem.setPermission(RawLocalFileSystem.java:978)\r\n\tat org.apache.hadoop.fs.RawLocalFileSystem.mkOneDirWithMode(RawLocalFileSystem.java:660)\r\n\tat org.apache.hadoop.fs.RawLocalFileSystem.mkdirsWithOptionalPermission(RawLocalFileSystem.java:700)\r\n\tat org.apache.hadoop.fs.RawLocalFileSystem.mkdirs(RawLocalFileSystem.java:672)\r\n\tat org.apache.hadoop.fs.RawLocalFileSystem.mkdirsWithOptionalPermission(RawLocalFileSystem.java:699)\r\n\tat org.apache.hadoop.fs.RawLocalFileSystem.mkdirs(RawLocalFileSystem.java:672)\r\n\tat org.apache.hadoop.fs.RawLocalFileSystem.mkdirsWithOptionalPermission(RawLocalFileSystem.java:699)\r\n\tat org.apache.hadoop.fs.RawLocalFileSystem.mkdirs(RawLocalFileSystem.java:672)\r\n\tat org.apache.hadoop.fs.RawLocalFileSystem.mkdirsWithOptionalPermission(RawLocalFileSystem.java:699)\r\n\tat org.apache.hadoop.fs.RawLocalFileSystem.mkdirs(RawLocalFileSystem.java:672)\r\n\tat org.apache.hadoop.fs.ChecksumFileSystem.mkdirs(ChecksumFileSystem.java:788)\r\n\tat org.apache.hadoop.mapreduce.lib.output.FileOutputCommitter.setupJob(FileOutputCommitter.java:356)\r\n\tat org.apache.hadoop.mapred.FileOutputCommitter.setupJob(FileOutputCommitter.java:131)\r\n\tat org.apache.hadoop.mapred.OutputCommitter.setupJob(OutputCommitter.java:265)\r\n\tat org.apache.spark.internal.io.HadoopMapReduceCommitProtocol.setupJob(HadoopMapReduceCommitProtocol.scala:188)\r\n\tat org.apache.spark.internal.io.SparkHadoopWriter$.write(SparkHadoopWriter.scala:79)\r\n\tat org.apache.spark.rdd.PairRDDFunctions.$anonfun$saveAsHadoopDataset$1(PairRDDFunctions.scala:1091)\r\n\tat scala.runtime.java8.JFunction0$mcV$sp.apply(JFunction0$mcV$sp.java:23)\r\n\tat org.apache.spark.rdd.RDDOperationScope$.withScope(RDDOperationScope.scala:151)\r\n\tat org.apache.spark.rdd.RDDOperationScope$.withScope(RDDOperationScope.scala:112)\r\n\tat org.apache.spark.rdd.RDD.withScope(RDD.scala:405)\r\n\tat org.apache.spark.rdd.PairRDDFunctions.saveAsHadoopDataset(PairRDDFunctions.scala:1089)\r\n\tat org.apache.spark.rdd.PairRDDFunctions.$anonfun$saveAsHadoopFile$4(PairRDDFunctions.scala:1062)\r\n\tat scala.runtime.java8.JFunction0$mcV$sp.apply(JFunction0$mcV$sp.java:23)\r\n\tat org.apache.spark.rdd.RDDOperationScope$.withScope(RDDOperationScope.scala:151)\r\n\tat org.apache.spark.rdd.RDDOperationScope$.withScope(RDDOperationScope.scala:112)\r\n\tat org.apache.spark.rdd.RDD.withScope(RDD.scala:405)\r\n\tat org.apache.spark.rdd.PairRDDFunctions.saveAsHadoopFile(PairRDDFunctions.scala:1027)\r\n\tat org.apache.spark.rdd.PairRDDFunctions.$anonfun$saveAsHadoopFile$3(PairRDDFunctions.scala:1009)\r\n\tat scala.runtime.java8.JFunction0$mcV$sp.apply(JFunction0$mcV$sp.java:23)\r\n\tat org.apache.spark.rdd.RDDOperationScope$.withScope(RDDOperationScope.scala:151)\r\n\tat org.apache.spark.rdd.RDDOperationScope$.withScope(RDDOperationScope.scala:112)\r\n\tat org.apache.spark.rdd.RDD.withScope(RDD.scala:405)\r\n\tat org.apache.spark.rdd.PairRDDFunctions.saveAsHadoopFile(PairRDDFunctions.scala:1008)\r\n\tat org.apache.spark.rdd.PairRDDFunctions.$anonfun$saveAsHadoopFile$2(PairRDDFunctions.scala:965)\r\n\tat scala.runtime.java8.JFunction0$mcV$sp.apply(JFunction0$mcV$sp.java:23)\r\n\tat org.apache.spark.rdd.RDDOperationScope$.withScope(RDDOperationScope.scala:151)\r\n\tat org.apache.spark.rdd.RDDOperationScope$.withScope(RDDOperationScope.scala:112)\r\n\tat org.apache.spark.rdd.RDD.withScope(RDD.scala:405)\r\n\tat org.apache.spark.rdd.PairRDDFunctions.saveAsHadoopFile(PairRDDFunctions.scala:963)\r\n\tat org.apache.spark.rdd.RDD.$anonfun$saveAsTextFile$2(RDD.scala:1593)\r\n\tat scala.runtime.java8.JFunction0$mcV$sp.apply(JFunction0$mcV$sp.java:23)\r\n\tat org.apache.spark.rdd.RDDOperationScope$.withScope(RDDOperationScope.scala:151)\r\n\tat org.apache.spark.rdd.RDDOperationScope$.withScope(RDDOperationScope.scala:112)\r\n\tat org.apache.spark.rdd.RDD.withScope(RDD.scala:405)\r\n\tat org.apache.spark.rdd.RDD.saveAsTextFile(RDD.scala:1593)\r\n\tat org.apache.spark.rdd.RDD.$anonfun$saveAsTextFile$1(RDD.scala:1579)\r\n\tat scala.runtime.java8.JFunction0$mcV$sp.apply(JFunction0$mcV$sp.java:23)\r\n\tat org.apache.spark.rdd.RDDOperationScope$.withScope(RDDOperationScope.scala:151)\r\n\tat org.apache.spark.rdd.RDDOperationScope$.withScope(RDDOperationScope.scala:112)\r\n\tat org.apache.spark.rdd.RDD.withScope(RDD.scala:405)\r\n\tat org.apache.spark.rdd.RDD.saveAsTextFile(RDD.scala:1579)\r\n\tat org.apache.spark.ml.util.DefaultParamsWriter$.saveMetadata(ReadWrite.scala:413)\r\n\tat org.apache.spark.ml.Pipeline$SharedReadWrite$.$anonfun$saveImpl$1(Pipeline.scala:250)\r\n\tat org.apache.spark.ml.Pipeline$SharedReadWrite$.$anonfun$saveImpl$1$adapted(Pipeline.scala:247)\r\n\tat org.apache.spark.ml.util.Instrumentation$.$anonfun$instrumented$1(Instrumentation.scala:191)\r\n\tat scala.util.Try$.apply(Try.scala:213)\r\n\tat org.apache.spark.ml.util.Instrumentation$.instrumented(Instrumentation.scala:191)\r\n\tat org.apache.spark.ml.Pipeline$SharedReadWrite$.saveImpl(Pipeline.scala:247)\r\n\tat org.apache.spark.ml.PipelineModel$PipelineModelWriter.saveImpl(Pipeline.scala:346)\r\n\tat org.apache.spark.ml.util.MLWriter.save(ReadWrite.scala:168)\r\n\tat org.apache.spark.ml.PipelineModel$PipelineModelWriter.super$save(Pipeline.scala:344)\r\n\tat org.apache.spark.ml.PipelineModel$PipelineModelWriter.$anonfun$save$4(Pipeline.scala:344)\r\n\tat org.apache.spark.ml.MLEvents.withSaveInstanceEvent(events.scala:174)\r\n\tat org.apache.spark.ml.MLEvents.withSaveInstanceEvent$(events.scala:169)\r\n\tat org.apache.spark.ml.util.Instrumentation.withSaveInstanceEvent(Instrumentation.scala:42)\r\n\tat org.apache.spark.ml.PipelineModel$PipelineModelWriter.$anonfun$save$3(Pipeline.scala:344)\r\n\tat org.apache.spark.ml.PipelineModel$PipelineModelWriter.$anonfun$save$3$adapted(Pipeline.scala:344)\r\n\tat org.apache.spark.ml.util.Instrumentation$.$anonfun$instrumented$1(Instrumentation.scala:191)\r\n\tat scala.util.Try$.apply(Try.scala:213)\r\n\tat org.apache.spark.ml.util.Instrumentation$.instrumented(Instrumentation.scala:191)\r\n\tat org.apache.spark.ml.PipelineModel$PipelineModelWriter.save(Pipeline.scala:344)\r\n\tat java.base/jdk.internal.reflect.NativeMethodAccessorImpl.invoke0(Native Method)\r\n\tat java.base/jdk.internal.reflect.NativeMethodAccessorImpl.invoke(NativeMethodAccessorImpl.java:62)\r\n\tat java.base/jdk.internal.reflect.DelegatingMethodAccessorImpl.invoke(DelegatingMethodAccessorImpl.java:43)\r\n\tat java.base/java.lang.reflect.Method.invoke(Method.java:566)\r\n\tat py4j.reflection.MethodInvoker.invoke(MethodInvoker.java:244)\r\n\tat py4j.reflection.ReflectionEngine.invoke(ReflectionEngine.java:374)\r\n\tat py4j.Gateway.invoke(Gateway.java:282)\r\n\tat py4j.commands.AbstractCommand.invokeMethod(AbstractCommand.java:132)\r\n\tat py4j.commands.CallCommand.execute(CallCommand.java:79)\r\n\tat py4j.ClientServerConnection.waitForCommands(ClientServerConnection.java:182)\r\n\tat py4j.ClientServerConnection.run(ClientServerConnection.java:106)\r\n\tat java.base/java.lang.Thread.run(Thread.java:829)\r\nCaused by: java.io.FileNotFoundException: java.io.FileNotFoundException: HADOOP_HOME and hadoop.home.dir are unset. -see https://wiki.apache.org/hadoop/WindowsProblems\r\n\tat org.apache.hadoop.util.Shell.fileNotFoundException(Shell.java:547)\r\n\tat org.apache.hadoop.util.Shell.getHadoopHomeDir(Shell.java:568)\r\n\tat org.apache.hadoop.util.Shell.getQualifiedBin(Shell.java:591)\r\n\tat org.apache.hadoop.util.Shell.<clinit>(Shell.java:688)\r\n\tat org.apache.hadoop.util.StringUtils.<clinit>(StringUtils.java:79)\r\n\tat org.apache.hadoop.conf.Configuration.getTimeDurationHelper(Configuration.java:1907)\r\n\tat org.apache.hadoop.conf.Configuration.getTimeDuration(Configuration.java:1867)\r\n\tat org.apache.hadoop.conf.Configuration.getTimeDuration(Configuration.java:1840)\r\n\tat org.apache.hadoop.util.ShutdownHookManager.getShutdownTimeout(ShutdownHookManager.java:183)\r\n\tat org.apache.hadoop.util.ShutdownHookManager$HookEntry.<init>(ShutdownHookManager.java:207)\r\n\tat org.apache.hadoop.util.ShutdownHookManager.addShutdownHook(ShutdownHookManager.java:304)\r\n\tat org.apache.spark.util.SparkShutdownHookManager.install(ShutdownHookManager.scala:181)\r\n\tat org.apache.spark.util.ShutdownHookManager$.shutdownHooks$lzycompute(ShutdownHookManager.scala:50)\r\n\tat org.apache.spark.util.ShutdownHookManager$.shutdownHooks(ShutdownHookManager.scala:48)\r\n\tat org.apache.spark.util.ShutdownHookManager$.addShutdownHook(ShutdownHookManager.scala:153)\r\n\tat org.apache.spark.util.ShutdownHookManager$.<init>(ShutdownHookManager.scala:58)\r\n\tat org.apache.spark.util.ShutdownHookManager$.<clinit>(ShutdownHookManager.scala)\r\n\tat org.apache.spark.util.Utils$.createTempDir(Utils.scala:341)\r\n\tat org.apache.spark.util.Utils$.createTempDir(Utils.scala:331)\r\n\tat org.apache.spark.deploy.SparkSubmit.prepareSubmitEnvironment(SparkSubmit.scala:370)\r\n\tat org.apache.spark.deploy.SparkSubmit.org$apache$spark$deploy$SparkSubmit$$runMain(SparkSubmit.scala:955)\r\n\tat org.apache.spark.deploy.SparkSubmit.doRunMain$1(SparkSubmit.scala:192)\r\n\tat org.apache.spark.deploy.SparkSubmit.submit(SparkSubmit.scala:215)\r\n\tat org.apache.spark.deploy.SparkSubmit.doSubmit(SparkSubmit.scala:91)\r\n\tat org.apache.spark.deploy.SparkSubmit$$anon$2.doSubmit(SparkSubmit.scala:1111)\r\n\tat org.apache.spark.deploy.SparkSubmit$.main(SparkSubmit.scala:1120)\r\n\tat org.apache.spark.deploy.SparkSubmit.main(SparkSubmit.scala)\r\nCaused by: java.io.FileNotFoundException: HADOOP_HOME and hadoop.home.dir are unset.\r\n\tat org.apache.hadoop.util.Shell.checkHadoopHomeInner(Shell.java:467)\r\n\tat org.apache.hadoop.util.Shell.checkHadoopHome(Shell.java:438)\r\n\tat org.apache.hadoop.util.Shell.<clinit>(Shell.java:515)\r\n\t... 23 more\r\n"
     ]
    }
   ],
   "source": [
    "final_model.save(\"gb_Model\")"
   ]
  },
  {
   "cell_type": "code",
   "execution_count": null,
   "id": "df2c4e36-58a7-435c-a50c-9c2d6b5ec948",
   "metadata": {},
   "outputs": [],
   "source": []
  }
 ],
 "metadata": {
  "kernelspec": {
   "display_name": "Python 3 (ipykernel)",
   "language": "python",
   "name": "python3"
  },
  "language_info": {
   "codemirror_mode": {
    "name": "ipython",
    "version": 3
   },
   "file_extension": ".py",
   "mimetype": "text/x-python",
   "name": "python",
   "nbconvert_exporter": "python",
   "pygments_lexer": "ipython3",
   "version": "3.11.7"
  }
 },
 "nbformat": 4,
 "nbformat_minor": 5
}
