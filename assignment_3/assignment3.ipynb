{
 "cells": [
  {
   "cell_type": "code",
   "execution_count": 1,
   "id": "c013180c",
   "metadata": {},
   "outputs": [],
   "source": [
    "import os\n",
    "import json\n",
    "import pandas as pd\n",
    "import pyspark\n",
    "import matplotlib as plt\n",
    "import seaborn as sns\n",
    "import findspark\n",
    "from pyspark.sql import SparkSession\n",
    "from pyspark.sql.functions import col\n",
    "from pyspark.ml.feature import Tokenizer, StopWordsRemover, CountVectorizer, IDF, StringIndexer, VectorAssembler\n",
    "from pyspark.ml.classification import LogisticRegression, RandomForestClassifier, GBTClassifier, MultilayerPerceptronClassifier\n",
    "from pyspark.ml.tuning import ParamGridBuilder, CrossValidator\n",
    "from pyspark.ml.evaluation import MulticlassClassificationEvaluator, BinaryClassificationEvaluator\n",
    "from pyspark.ml import Pipeline\n",
    "from pyspark.mllib.evaluation import MulticlassMetrics"
   ]
  },
  {
   "cell_type": "markdown",
   "id": "4e14e72e-a231-4d8d-945c-7816209fcd57",
   "metadata": {},
   "source": [
    "# Collate spark results\n",
    "\n",
    "These are already collected, you can thus skip the next cell."
   ]
  },
  {
   "cell_type": "code",
   "execution_count": 2,
   "id": "6a379b63-72d7-4dfe-9665-df687e463d63",
   "metadata": {
    "tags": []
   },
   "outputs": [],
   "source": [
    "# Set path to spark datafolder\n",
    "_path = \"PATH/TO/spark/notebooks/data\"\n",
    "findspark.init()\n",
    "text_file_paths = [\n",
    "    os.path.join(root, name)\n",
    "    for root, dirs, files in os.walk(_path)\n",
    "    for name in files\n",
    "    if name.endswith('.json')\n",
    "    and not name.endswith('_SUCCESS.json')\n",
    "]\n",
    "\n",
    "data = []\n",
    "def process_json(filename):\n",
    "    with open(filename, 'r') as f:\n",
    "        try:\n",
    "            # Load the JSON data and handle potential errors\n",
    "            json_data = json.load(f)\n",
    "            value_dict = json.loads(json_data['value'])\n",
    "\n",
    "            # Create a dictionary with the extracted values\n",
    "            data_dict = {\n",
    "                \"aid\": value_dict[\"aid\"],\n",
    "                \"title\": value_dict[\"title\"],\n",
    "                \"url\": value_dict[\"url\"],\n",
    "                \"domain\": value_dict[\"domain\"],\n",
    "                \"votes\": value_dict[\"votes\"],\n",
    "                \"user\": value_dict[\"user\"],\n",
    "                \"posted_at\": value_dict[\"posted_at\"],\n",
    "                \"comments\": value_dict[\"comments\"],\n",
    "                \"source_title\": value_dict[\"source_title\"],\n",
    "                \"source_text\": value_dict[\"source_text\"],\n",
    "                \"frontpage\": value_dict[\"frontpage\"]\n",
    "            }\n",
    "\n",
    "            # Append the dictionary to the data list\n",
    "            data.append(data_dict)\n",
    "        except json.JSONDecodeError as e:\n",
    "            print(f\"Error parsing JSON file '{filename}': {e}\")\n",
    "\n",
    "# Process each JSON file\n",
    "for filename in text_file_paths:\n",
    "    process_json(filename)\n",
    "\n",
    "# Create the DataFrame from the list of dictionaries\n",
    "df = pd.DataFrame(data)\n",
    "\n",
    "# Print the DataFrame\n",
    "print(df)\n",
    "df.to_csv('../datasets/assignment3.tsv', sep='\\t', index=False)"
   ]
  },
  {
   "cell_type": "code",
   "execution_count": 4,
   "id": "9d5695ca",
   "metadata": {},
   "outputs": [
    {
     "data": {
      "text/html": [
       "<div>\n",
       "<style scoped>\n",
       "    .dataframe tbody tr th:only-of-type {\n",
       "        vertical-align: middle;\n",
       "    }\n",
       "\n",
       "    .dataframe tbody tr th {\n",
       "        vertical-align: top;\n",
       "    }\n",
       "\n",
       "    .dataframe thead th {\n",
       "        text-align: right;\n",
       "    }\n",
       "</style>\n",
       "<table border=\"1\" class=\"dataframe\">\n",
       "  <thead>\n",
       "    <tr style=\"text-align: right;\">\n",
       "      <th></th>\n",
       "      <th>aid</th>\n",
       "      <th>title</th>\n",
       "      <th>url</th>\n",
       "      <th>domain</th>\n",
       "      <th>votes</th>\n",
       "      <th>user</th>\n",
       "      <th>posted_at</th>\n",
       "      <th>comments</th>\n",
       "      <th>source_title</th>\n",
       "      <th>source_text</th>\n",
       "      <th>frontpage</th>\n",
       "    </tr>\n",
       "  </thead>\n",
       "  <tbody>\n",
       "    <tr>\n",
       "      <th>0</th>\n",
       "      <td>40152353</td>\n",
       "      <td>The Importance of Maybe</td>\n",
       "      <td>https://zephyrtronium.github.io/articles/lang-...</td>\n",
       "      <td>zephyrtronium.github.io</td>\n",
       "      <td>1</td>\n",
       "      <td>Madxmike</td>\n",
       "      <td>2024-04-25 01:44:44</td>\n",
       "      <td>0</td>\n",
       "      <td>The Importance of Maybe</td>\n",
       "      <td>The Importance of Maybe | zephyrtronium\\n\\n###...</td>\n",
       "      <td>False</td>\n",
       "    </tr>\n",
       "    <tr>\n",
       "      <th>1</th>\n",
       "      <td>40174439</td>\n",
       "      <td>Noam Chomsky on Where AI Went Wrong (2012)</td>\n",
       "      <td>https://www.youtube.com/playlist?list=PL5lamnB...</td>\n",
       "      <td>youtube.com</td>\n",
       "      <td>2</td>\n",
       "      <td>max_</td>\n",
       "      <td>2024-04-26 21:20:38</td>\n",
       "      <td>0</td>\n",
       "      <td>Before you continue to YouTube</td>\n",
       "      <td>Before you continue to YouTube\\n\\nA Google com...</td>\n",
       "      <td>False</td>\n",
       "    </tr>\n",
       "    <tr>\n",
       "      <th>2</th>\n",
       "      <td>40165089</td>\n",
       "      <td>Overclocking My Brain: Adapting to Faster Audi...</td>\n",
       "      <td>https://buttondown.email/bimodalblitz/archive/...</td>\n",
       "      <td>buttondown.email/bimodalblitz</td>\n",
       "      <td>1</td>\n",
       "      <td>readtolive</td>\n",
       "      <td>2024-04-26 01:46:30</td>\n",
       "      <td>0</td>\n",
       "      <td>Overclocking My Brain: Adapting to Faster Audi...</td>\n",
       "      <td>Overclocking My Brain: Adapting to Faster Audi...</td>\n",
       "      <td>False</td>\n",
       "    </tr>\n",
       "    <tr>\n",
       "      <th>3</th>\n",
       "      <td>40173780</td>\n",
       "      <td>We Dropped This Phone from 300 Feet. Here's Wh...</td>\n",
       "      <td>https://www.wsj.com/video/series/joanna-stern-...</td>\n",
       "      <td>wsj.com</td>\n",
       "      <td>3</td>\n",
       "      <td>gnicholas</td>\n",
       "      <td>2024-04-26 20:21:14</td>\n",
       "      <td>0</td>\n",
       "      <td>wsj.com</td>\n",
       "      <td>wsj.com\\n\\n</td>\n",
       "      <td>True</td>\n",
       "    </tr>\n",
       "    <tr>\n",
       "      <th>4</th>\n",
       "      <td>40151430</td>\n",
       "      <td>WordPress Debugging Simplified with Wpdebug.sh</td>\n",
       "      <td>https://fervid.digital/articles/wordpress-debu...</td>\n",
       "      <td>fervid.digital</td>\n",
       "      <td>1</td>\n",
       "      <td>roymckenzie</td>\n",
       "      <td>2024-04-24 23:53:55</td>\n",
       "      <td>0</td>\n",
       "      <td>WordPress Debugging Simplified with wpdebug.sh...</td>\n",
       "      <td>WordPress Debugging Simplified with wpdebug.sh...</td>\n",
       "      <td>False</td>\n",
       "    </tr>\n",
       "  </tbody>\n",
       "</table>\n",
       "</div>"
      ],
      "text/plain": [
       "        aid                                              title  \\\n",
       "0  40152353                            The Importance of Maybe   \n",
       "1  40174439         Noam Chomsky on Where AI Went Wrong (2012)   \n",
       "2  40165089  Overclocking My Brain: Adapting to Faster Audi...   \n",
       "3  40173780  We Dropped This Phone from 300 Feet. Here's Wh...   \n",
       "4  40151430     WordPress Debugging Simplified with Wpdebug.sh   \n",
       "\n",
       "                                                 url  \\\n",
       "0  https://zephyrtronium.github.io/articles/lang-...   \n",
       "1  https://www.youtube.com/playlist?list=PL5lamnB...   \n",
       "2  https://buttondown.email/bimodalblitz/archive/...   \n",
       "3  https://www.wsj.com/video/series/joanna-stern-...   \n",
       "4  https://fervid.digital/articles/wordpress-debu...   \n",
       "\n",
       "                          domain  votes         user            posted_at  \\\n",
       "0        zephyrtronium.github.io      1     Madxmike  2024-04-25 01:44:44   \n",
       "1                    youtube.com      2         max_  2024-04-26 21:20:38   \n",
       "2  buttondown.email/bimodalblitz      1   readtolive  2024-04-26 01:46:30   \n",
       "3                        wsj.com      3    gnicholas  2024-04-26 20:21:14   \n",
       "4                 fervid.digital      1  roymckenzie  2024-04-24 23:53:55   \n",
       "\n",
       "   comments                                       source_title  \\\n",
       "0         0                            The Importance of Maybe   \n",
       "1         0                     Before you continue to YouTube   \n",
       "2         0  Overclocking My Brain: Adapting to Faster Audi...   \n",
       "3         0                                            wsj.com   \n",
       "4         0  WordPress Debugging Simplified with wpdebug.sh...   \n",
       "\n",
       "                                         source_text  frontpage  \n",
       "0  The Importance of Maybe | zephyrtronium\\n\\n###...      False  \n",
       "1  Before you continue to YouTube\\n\\nA Google com...      False  \n",
       "2  Overclocking My Brain: Adapting to Faster Audi...      False  \n",
       "3                                        wsj.com\\n\\n       True  \n",
       "4  WordPress Debugging Simplified with wpdebug.sh...      False  "
      ]
     },
     "execution_count": 4,
     "metadata": {},
     "output_type": "execute_result"
    }
   ],
   "source": [
    "df = pd.read_csv('../datasets/assignment3.tsv', sep='\\t')\n",
    "df.head()"
   ]
  },
  {
   "cell_type": "code",
   "execution_count": 5,
   "id": "b14a5cb2-c933-4c7b-b9b9-e85c158511ba",
   "metadata": {
    "tags": []
   },
   "outputs": [
    {
     "data": {
      "text/html": [
       "<div>\n",
       "<style scoped>\n",
       "    .dataframe tbody tr th:only-of-type {\n",
       "        vertical-align: middle;\n",
       "    }\n",
       "\n",
       "    .dataframe tbody tr th {\n",
       "        vertical-align: top;\n",
       "    }\n",
       "\n",
       "    .dataframe thead th {\n",
       "        text-align: right;\n",
       "    }\n",
       "</style>\n",
       "<table border=\"1\" class=\"dataframe\">\n",
       "  <thead>\n",
       "    <tr style=\"text-align: right;\">\n",
       "      <th></th>\n",
       "      <th>aid</th>\n",
       "      <th>votes</th>\n",
       "      <th>comments</th>\n",
       "    </tr>\n",
       "  </thead>\n",
       "  <tbody>\n",
       "    <tr>\n",
       "      <th>count</th>\n",
       "      <td>1.695000e+03</td>\n",
       "      <td>1695.000000</td>\n",
       "      <td>1695.000000</td>\n",
       "    </tr>\n",
       "    <tr>\n",
       "      <th>mean</th>\n",
       "      <td>4.016198e+07</td>\n",
       "      <td>3.390560</td>\n",
       "      <td>0.584661</td>\n",
       "    </tr>\n",
       "    <tr>\n",
       "      <th>std</th>\n",
       "      <td>1.015876e+04</td>\n",
       "      <td>7.966186</td>\n",
       "      <td>2.970298</td>\n",
       "    </tr>\n",
       "    <tr>\n",
       "      <th>min</th>\n",
       "      <td>4.014915e+07</td>\n",
       "      <td>1.000000</td>\n",
       "      <td>0.000000</td>\n",
       "    </tr>\n",
       "    <tr>\n",
       "      <th>25%</th>\n",
       "      <td>4.015366e+07</td>\n",
       "      <td>1.000000</td>\n",
       "      <td>0.000000</td>\n",
       "    </tr>\n",
       "    <tr>\n",
       "      <th>50%</th>\n",
       "      <td>4.016131e+07</td>\n",
       "      <td>1.000000</td>\n",
       "      <td>0.000000</td>\n",
       "    </tr>\n",
       "    <tr>\n",
       "      <th>75%</th>\n",
       "      <td>4.017134e+07</td>\n",
       "      <td>2.000000</td>\n",
       "      <td>0.000000</td>\n",
       "    </tr>\n",
       "    <tr>\n",
       "      <th>max</th>\n",
       "      <td>4.018715e+07</td>\n",
       "      <td>128.000000</td>\n",
       "      <td>46.000000</td>\n",
       "    </tr>\n",
       "  </tbody>\n",
       "</table>\n",
       "</div>"
      ],
      "text/plain": [
       "                aid        votes     comments\n",
       "count  1.695000e+03  1695.000000  1695.000000\n",
       "mean   4.016198e+07     3.390560     0.584661\n",
       "std    1.015876e+04     7.966186     2.970298\n",
       "min    4.014915e+07     1.000000     0.000000\n",
       "25%    4.015366e+07     1.000000     0.000000\n",
       "50%    4.016131e+07     1.000000     0.000000\n",
       "75%    4.017134e+07     2.000000     0.000000\n",
       "max    4.018715e+07   128.000000    46.000000"
      ]
     },
     "execution_count": 5,
     "metadata": {},
     "output_type": "execute_result"
    }
   ],
   "source": [
    "df.describe()"
   ]
  },
  {
   "cell_type": "code",
   "execution_count": 6,
   "id": "951d988a-55e4-4f42-87f9-870d69fa288b",
   "metadata": {
    "tags": []
   },
   "outputs": [
    {
     "data": {
      "text/plain": [
       "<Axes: xlabel='frontpage', ylabel='comments'>"
      ]
     },
     "execution_count": 6,
     "metadata": {},
     "output_type": "execute_result"
    },
    {
     "data": {
      "image/png": "[encoded data removed]",
      "text/plain": [
       "<Figure size 640x480 with 1 Axes>"
      ]
     },
     "metadata": {},
     "output_type": "display_data"
    }
   ],
   "source": [
    "#Look at distributions for votes and comments based on frontpage value:\n",
    "sns.barplot(x=\"frontpage\", y=\"comments\", data=df)"
   ]
  },
  {
   "cell_type": "code",
   "execution_count": 7,
   "id": "8f3cf3ea-f297-4c13-be6c-586532f87264",
   "metadata": {
    "tags": []
   },
   "outputs": [
    {
     "data": {
      "text/plain": [
       "<Axes: xlabel='frontpage', ylabel='votes'>"
      ]
     },
     "execution_count": 7,
     "metadata": {},
     "output_type": "execute_result"
    },
    {
     "data": {
      "image/png": "[encoded data removed]",
      "text/plain": [
       "<Figure size 640x480 with 1 Axes>"
      ]
     },
     "metadata": {},
     "output_type": "display_data"
    }
   ],
   "source": [
    "sns.barplot(x=\"frontpage\", y=\"votes\", data=df)"
   ]
  },
  {
   "cell_type": "code",
   "execution_count": 33,
   "id": "cd7d9b76",
   "metadata": {},
   "outputs": [],
   "source": [
    "# create a SparkSession \n",
    "spark = SparkSession.builder \\\n",
    "    .appName(\"Deep_learning_txt\") \\\n",
    "    .getOrCreate() \n",
    "\n",
    "spark.conf.set(\"spark.sql.legacy.setCommandRejectsSparkCoreConfs\",\"false\")\n",
    "spark.conf.set(\"spark.executor.memory\", \"15g\")\n",
    "spark.conf.set(\"spark.executor.cores\", \"8\")\n",
    "spark.sparkContext.setLogLevel(\"ERROR\")\n",
    "# Remove duplicate row\n",
    "sdf = spark.createDataFrame(df)\n",
    "sdf=sdf.dropna()\n",
    "sdf = sdf.withColumn(\"frontpage\", col(\"frontpage\").cast(\"integer\"))"
   ]
  },
  {
   "cell_type": "code",
   "execution_count": 34,
   "id": "db1eebf4-eb59-4486-a9e0-b11cc8228ffc",
   "metadata": {
    "tags": []
   },
   "outputs": [
    {
     "data": {
      "text/html": [
       "\n",
       "            <div>\n",
       "                <p><b>SparkSession - in-memory</b></p>\n",
       "                \n",
       "        <div>\n",
       "            <p><b>SparkContext</b></p>\n",
       "\n",
       "            <p><a href=\"http://mac1080.fritz.box:4040\">Spark UI</a></p>\n",
       "\n",
       "            <dl>\n",
       "              <dt>Version</dt>\n",
       "                <dd><code>v3.5.1</code></dd>\n",
       "              <dt>Master</dt>\n",
       "                <dd><code>local[*]</code></dd>\n",
       "              <dt>AppName</dt>\n",
       "                <dd><code>Deep_learning_txt</code></dd>\n",
       "            </dl>\n",
       "        </div>\n",
       "        \n",
       "            </div>\n",
       "        "
      ],
      "text/plain": [
       "<pyspark.sql.session.SparkSession at 0x147bf6600>"
      ]
     },
     "execution_count": 34,
     "metadata": {},
     "output_type": "execute_result"
    }
   ],
   "source": [
    "spark"
   ]
  },
  {
   "cell_type": "code",
   "execution_count": 35,
   "id": "f3f3c837-ac7b-46fc-b575-9ea0442b1e07",
   "metadata": {
    "tags": []
   },
   "outputs": [
    {
     "name": "stdout",
     "output_type": "stream",
     "text": [
      "root\n",
      " |-- aid: long (nullable = true)\n",
      " |-- title: string (nullable = true)\n",
      " |-- url: string (nullable = true)\n",
      " |-- domain: string (nullable = true)\n",
      " |-- votes: long (nullable = true)\n",
      " |-- user: string (nullable = true)\n",
      " |-- posted_at: string (nullable = true)\n",
      " |-- comments: long (nullable = true)\n",
      " |-- source_title: string (nullable = true)\n",
      " |-- source_text: string (nullable = true)\n",
      " |-- frontpage: integer (nullable = true)\n",
      "\n"
     ]
    }
   ],
   "source": [
    "sdf.printSchema()"
   ]
  },
  {
   "cell_type": "code",
   "execution_count": 36,
   "id": "fb9884b0",
   "metadata": {},
   "outputs": [
    {
     "name": "stdout",
     "output_type": "stream",
     "text": [
      "Frontpage: True 286\n",
      "Frontpage: False  1409\n"
     ]
    }
   ],
   "source": [
    "train_data, test_data = sdf.randomSplit([0.8, 0.2], seed=123)\n",
    "print(\"Frontpage: True\", train_data.filter(col(\"frontpage\") == True).count()+test_data.filter(col(\"frontpage\") == True).count())\n",
    "print(\"Frontpage: False \", train_data.filter(col(\"frontpage\") == False).count()+test_data.filter(col(\"frontpage\") == False).count())"
   ]
  },
  {
   "cell_type": "markdown",
   "id": "a2c0ea30-8e51-4c7b-aa63-d4fc76cec06c",
   "metadata": {},
   "source": [
    " -  Tokenizer: converts input string to lowercase and then splits it by white spaces\n",
    " -  StopWordsRemover: removes stop words from the input\n",
    " -  CountVectorizer: Generates a vocabulary and frequency list\n",
    " -  IDF: Inverse document frequency. How important is a word"
   ]
  },
  {
   "cell_type": "code",
   "execution_count": 37,
   "id": "6c9fd461-3143-4e20-9f90-0fd935498980",
   "metadata": {
    "tags": []
   },
   "outputs": [
    {
     "name": "stdout",
     "output_type": "stream",
     "text": [
      "   frontpage  count\n",
      "0          1    226\n",
      "1          0   1142\n",
      "+---------+------------------+\n",
      "|frontpage|            weight|\n",
      "+---------+------------------+\n",
      "|        1|3.0265486725663715|\n",
      "|        1|3.0265486725663715|\n",
      "|        1|3.0265486725663715|\n",
      "+---------+------------------+\n",
      "only showing top 3 rows\n",
      "\n"
     ]
    }
   ],
   "source": [
    "#create a sample weight column using the training data\n",
    "from pyspark.sql.functions import col\n",
    "from pyspark.sql.functions import when\n",
    "\n",
    "counts = train_data.groupBy(\"frontpage\").count().toPandas()\n",
    "print(counts)\n",
    "#Counts\n",
    "count_frontpage = counts[counts[\"frontpage\"]==1][\"count\"].values[0]\n",
    "count_total = counts[\"count\"].sum()\n",
    "#Weights\n",
    "weight_frontpage= count_total/(2*count_frontpage)\n",
    "weight_notfront=count_total / (2*(count_total-count_frontpage))\n",
    "#Add weights as new column in dataframe\n",
    "train_data = train_data.withColumn(\"weight\", when(col(\"frontpage\")==1, weight_frontpage).otherwise(weight_notfront))\n",
    "\n",
    "#Check to see if this looks good\n",
    "\n",
    "train_data.select(\"frontpage\", \"weight\").where(col(\"frontpage\")==1).show(3)"
   ]
  },
  {
   "cell_type": "code",
   "execution_count": 38,
   "id": "3fc15fd4",
   "metadata": {},
   "outputs": [],
   "source": [
    "#sdf = sdf.withColumn(\"frontpage\", col(\"frontpage\").cast(\"integer\"))\n",
    "\n",
    "# preprocess the data\n",
    "tokenizer = Tokenizer(inputCol=\"title\", outputCol=\"words\")\n",
    "stopwords_remover = StopWordsRemover(inputCol=\"words\", outputCol=\"filtered_words\", locale=\"en_US\")\n",
    "count_vectorizer = CountVectorizer(inputCol=\"filtered_words\", outputCol=\"raw_features\")\n",
    "idf = IDF(inputCol=\"raw_features\", outputCol=\"text_features\")\n",
    "featureassembler=VectorAssembler(inputCols=[\"text_features\", \"votes\", \"comments\"], outputCol=\"features\")\n",
    "string_indexer = StringIndexer(inputCol=\"frontpage\", outputCol=\"label\")\n"
   ]
  },
  {
   "cell_type": "code",
   "execution_count": 39,
   "id": "6b148d7d-2861-4cf7-953e-f8a68eee9315",
   "metadata": {
    "tags": []
   },
   "outputs": [],
   "source": [
    "#Preprocessing Pipeline:\n",
    "\n",
    "pipeline = Pipeline(stages=[tokenizer, stopwords_remover, count_vectorizer, idf, featureassembler, string_indexer])\n",
    "pre = pipeline.fit(train_data)\n",
    "train_transformed = pre.transform(train_data)\n",
    "test_transformed = pre.transform(test_data)"
   ]
  },
  {
   "cell_type": "code",
   "execution_count": 40,
   "id": "be39704b-b02f-48cb-8f6c-758f28d5b10c",
   "metadata": {
    "tags": []
   },
   "outputs": [
    {
     "name": "stdout",
     "output_type": "stream",
     "text": [
      "\tAUROC\t\t\tAUPR\n",
      "LR\t0.8597378277153557\t0.69538034245952\n",
      "GB\t0.9943820224719101\t0.9631684827270105\n",
      "RF\t0.9327715355805243\t0.8845790375086766\n",
      "WLR\t0.8342072409488138\t0.6618246644647128\n"
     ]
    },
    {
     "name": "stderr",
     "output_type": "stream",
     "text": [
      "                                                                                \r"
     ]
    },
    {
     "name": "stdout",
     "output_type": "stream",
     "text": [
      "WGB\t0.9944444444444445\t0.967905429266526\n",
      "WRF\t0.9810549313358303\t0.9207883209017566\n"
     ]
    }
   ],
   "source": [
    "# create models\n",
    "models = []\n",
    "models.append((\"LR\", LogisticRegression(featuresCol=\"features\", labelCol=\"label\")))\n",
    "models.append((\"GB\", GBTClassifier(featuresCol=\"features\", labelCol=\"label\")))\n",
    "models.append((\"RF\", RandomForestClassifier(featuresCol=\"features\", labelCol=\"label\")))\n",
    "models.append((\"WLR\", LogisticRegression(featuresCol=\"features\", labelCol=\"label\",weightCol=\"weight\")))\n",
    "models.append((\"WGB\", GBTClassifier(featuresCol=\"features\", labelCol=\"label\",weightCol=\"weight\")))\n",
    "models.append((\"WRF\", RandomForestClassifier(featuresCol=\"features\", labelCol=\"label\",weightCol=\"weight\")))\n",
    "\n",
    "#confusion: how to get accuracy, recall auc????\n",
    "print(\"\\tAUROC\\t\\t\\tAUPR\")\n",
    "for name, model in models:\n",
    "    model_trained = model.fit(train_transformed)\n",
    "    predictions = model_trained.transform(test_transformed)\n",
    "    #Use binary classification to get auc:\n",
    "    evaluator = BinaryClassificationEvaluator(labelCol='label')\n",
    "    auc = evaluator.evaluate(predictions,{evaluator.metricName:'areaUnderROC'})\n",
    "    aupr = evaluator.evaluate(predictions,{evaluator.metricName:'areaUnderPR'})\n",
    "    #Get other metrics using an rdd: caused crashing issues for some reason\n",
    "    #pred_rdd = predictions.select('prediction','label').rdd.map(tuple)\n",
    "    #metrics = MulticlassMetrics(pred_rdd)\n",
    "    #accuracy = metrics.accuracy   # Positive class\n",
    "    #precision = metrics.precision(1.0)  # Positive class\n",
    "    #recall = metrics.recall(1.0)  # Positive class\n",
    "    #f1 = metrics.fMeasure(1.0)  # Positive class\n",
    "    print(f\"{name}\\t{auc}\\t{aupr}\")\n"
   ]
  },
  {
   "cell_type": "code",
   "execution_count": 41,
   "id": "3d7bc538",
   "metadata": {},
   "outputs": [
    {
     "name": "stderr",
     "output_type": "stream",
     "text": [
      "                                                                                \r"
     ]
    },
    {
     "name": "stdout",
     "output_type": "stream",
     "text": [
      "auroc: 0.9936953807740324\n",
      "aupr:  0.9650312931422474\n"
     ]
    }
   ],
   "source": [
    "#Best model is random forest with sample weights. Fit full pipeline to save the model:\n",
    "gb = GBTClassifier(featuresCol=\"features\", labelCol=\"frontpage\",weightCol=\"weight\")\n",
    "final_pipeline = Pipeline(stages=[tokenizer, stopwords_remover, count_vectorizer, idf, featureassembler, gb])\n",
    "evaluator = BinaryClassificationEvaluator(labelCol='frontpage')\n",
    "\n",
    "final_model = final_pipeline.fit(train_data)\n",
    "predictions = final_model.transform(test_data)\n",
    "\n",
    "auc = evaluator.evaluate(predictions,{evaluator.metricName:'areaUnderROC'})\n",
    "aupr = evaluator.evaluate(predictions,{evaluator.metricName:'areaUnderPR'})\n",
    "\n",
    "print(\"auroc: \"+ str(auc))\n",
    "print(\"aupr:  \"+ str(aupr))\n"
   ]
  },
  {
   "cell_type": "code",
   "execution_count": 21,
   "id": "fbc09230-971b-4255-9465-245ce933c944",
   "metadata": {},
   "outputs": [],
   "source": [
    "final_model.save(\"../results/assignment3_gb_Model\")"
   ]
  }
 ],
 "metadata": {
  "kernelspec": {
   "display_name": "Python 3 (ipykernel)",
   "language": "python",
   "name": "python3"
  },
  "language_info": {
   "codemirror_mode": {
    "name": "ipython",
    "version": 3
   },
   "file_extension": ".py",
   "mimetype": "text/x-python",
   "name": "python",
   "nbconvert_exporter": "python",
   "pygments_lexer": "ipython3",
   "version": "3.12.3"
  }
 },
 "nbformat": 4,
 "nbformat_minor": 5
}
